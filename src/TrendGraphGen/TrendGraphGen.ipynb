{
  "nbformat": 4,
  "nbformat_minor": 0,
  "metadata": {
    "colab": {
      "name": "TrendGraphGen.ipynb",
      "version": "0.3.2",
      "views": {},
      "default_view": {},
      "provenance": [],
      "collapsed_sections": [],
      "toc_visible": true
    },
    "kernelspec": {
      "name": "python3",
      "display_name": "Python 3"
    },
    "accelerator": "GPU"
  },
  "cells": [
    {
      "metadata": {
        "id": "5b2pAxK7J0Vb",
        "colab_type": "code",
        "colab": {
          "autoexec": {
            "startup": false,
            "wait_interval": 0
          },
          "base_uri": "https://localhost:8080/",
          "height": 37
        },
        "outputId": "cb31b004-c440-41bb-e542-77bfc29ad1c6",
        "executionInfo": {
          "status": "ok",
          "timestamp": 1530407960194,
          "user_tz": -330,
          "elapsed": 1088,
          "user": {
            "displayName": "Kunal Chakrabarty",
            "photoUrl": "//lh4.googleusercontent.com/-a0qGjXrilc8/AAAAAAAAAAI/AAAAAAAAByY/6GuOhTE-12E/s50-c-k-no/photo.jpg",
            "userId": "109793668806465607006"
          }
        }
      },
      "cell_type": "code",
      "source": [
        "import matplotlib.pyplot as plt\n"
      ],
      "execution_count": 10,
      "outputs": []
    },
    {
      "metadata": {
        "id": "o-8g0P9JJ38K",
        "colab_type": "code",
        "colab": {
          "autoexec": {
            "startup": false,
            "wait_interval": 0
          },
          "base_uri": "https://localhost:8080/",
          "height": 37
        },
        "outputId": "339841ac-a5fb-4644-e713-2323274c84a7",
        "executionInfo": {
          "status": "ok",
          "timestamp": 1530407961209,
          "user_tz": -330,
          "elapsed": 876,
          "user": {
            "displayName": "Kunal Chakrabarty",
            "photoUrl": "//lh4.googleusercontent.com/-a0qGjXrilc8/AAAAAAAAAAI/AAAAAAAAByY/6GuOhTE-12E/s50-c-k-no/photo.jpg",
            "userId": "109793668806465607006"
          }
        }
      },
      "cell_type": "code",
      "source": [
        "%matplotlib inline"
      ],
      "execution_count": 11,
      "outputs": []
    },
    {
      "metadata": {
        "id": "l_X6lsi8J57i",
        "colab_type": "code",
        "colab": {
          "autoexec": {
            "startup": false,
            "wait_interval": 0
          },
          "base_uri": "https://localhost:8080/",
          "height": 17
        },
        "outputId": "a78a5c66-b039-448e-cfb4-9c78fc6a9bd9",
        "executionInfo": {
          "status": "ok",
          "timestamp": 1530407962227,
          "user_tz": -330,
          "elapsed": 839,
          "user": {
            "displayName": "Kunal Chakrabarty",
            "photoUrl": "//lh4.googleusercontent.com/-a0qGjXrilc8/AAAAAAAAAAI/AAAAAAAAByY/6GuOhTE-12E/s50-c-k-no/photo.jpg",
            "userId": "109793668806465607006"
          }
        }
      },
      "cell_type": "code",
      "source": [
        "import pandas as pd\n",
        "import numpy as np\n"
      ],
      "execution_count": 12,
      "outputs": []
    },
    {
      "metadata": {
        "id": "FYNxYXpsJ8pg",
        "colab_type": "code",
        "colab": {
          "autoexec": {
            "startup": false,
            "wait_interval": 0
          },
          "base_uri": "https://localhost:8080/",
          "height": 17
        },
        "outputId": "7bde6b42-d181-4b1b-af55-9bc57225dc30",
        "executionInfo": {
          "status": "ok",
          "timestamp": 1530355877251,
          "user_tz": -330,
          "elapsed": 1970,
          "user": {
            "displayName": "Kunal Chakrabarty",
            "photoUrl": "//lh4.googleusercontent.com/-a0qGjXrilc8/AAAAAAAAAAI/AAAAAAAAByY/6GuOhTE-12E/s50-c-k-no/photo.jpg",
            "userId": "109793668806465607006"
          }
        }
      },
      "cell_type": "code",
      "source": [
        "X=pd.Series([1,2,3,4,5,6,7,8])"
      ],
      "execution_count": 25,
      "outputs": []
    },
    {
      "metadata": {
        "id": "iEt7CmOzJ_s2",
        "colab_type": "code",
        "colab": {
          "autoexec": {
            "startup": false,
            "wait_interval": 0
          },
          "base_uri": "https://localhost:8080/",
          "height": 166
        },
        "outputId": "38d3f572-e73b-416a-9e74-bfe00d07c08b",
        "executionInfo": {
          "status": "ok",
          "timestamp": 1530355878448,
          "user_tz": -330,
          "elapsed": 1078,
          "user": {
            "displayName": "Kunal Chakrabarty",
            "photoUrl": "//lh4.googleusercontent.com/-a0qGjXrilc8/AAAAAAAAAAI/AAAAAAAAByY/6GuOhTE-12E/s50-c-k-no/photo.jpg",
            "userId": "109793668806465607006"
          }
        }
      },
      "cell_type": "code",
      "source": [
        "X"
      ],
      "execution_count": 26,
      "outputs": [
        {
          "output_type": "execute_result",
          "data": {
            "text/plain": [
              "0    1\n",
              "1    2\n",
              "2    3\n",
              "3    4\n",
              "4    5\n",
              "5    6\n",
              "6    7\n",
              "7    8\n",
              "dtype: int64"
            ]
          },
          "metadata": {
            "tags": []
          },
          "execution_count": 26
        }
      ]
    },
    {
      "metadata": {
        "id": "rdwDYZTqKDu-",
        "colab_type": "code",
        "colab": {
          "autoexec": {
            "startup": false,
            "wait_interval": 0
          },
          "base_uri": "https://localhost:8080/",
          "height": 17
        },
        "outputId": "f7069ca2-0e4f-4731-a3d2-6a1dfc595398",
        "executionInfo": {
          "status": "ok",
          "timestamp": 1530355879619,
          "user_tz": -330,
          "elapsed": 1064,
          "user": {
            "displayName": "Kunal Chakrabarty",
            "photoUrl": "//lh4.googleusercontent.com/-a0qGjXrilc8/AAAAAAAAAAI/AAAAAAAAByY/6GuOhTE-12E/s50-c-k-no/photo.jpg",
            "userId": "109793668806465607006"
          }
        }
      },
      "cell_type": "code",
      "source": [
        "y=[]\n",
        "\n",
        "for element in X:\n",
        "  y.append(element*element)"
      ],
      "execution_count": 27,
      "outputs": []
    },
    {
      "metadata": {
        "id": "tClCKjK0KG8p",
        "colab_type": "code",
        "colab": {
          "autoexec": {
            "startup": false,
            "wait_interval": 0
          },
          "base_uri": "https://localhost:8080/",
          "height": 17
        },
        "outputId": "0a45277e-00a8-4fe4-de30-9aae10966b9f",
        "executionInfo": {
          "status": "ok",
          "timestamp": 1530355880792,
          "user_tz": -330,
          "elapsed": 1052,
          "user": {
            "displayName": "Kunal Chakrabarty",
            "photoUrl": "//lh4.googleusercontent.com/-a0qGjXrilc8/AAAAAAAAAAI/AAAAAAAAByY/6GuOhTE-12E/s50-c-k-no/photo.jpg",
            "userId": "109793668806465607006"
          }
        }
      },
      "cell_type": "code",
      "source": [
        "y=pd.Series(y)"
      ],
      "execution_count": 28,
      "outputs": []
    },
    {
      "metadata": {
        "id": "4GgttmxeKPVJ",
        "colab_type": "code",
        "colab": {
          "autoexec": {
            "startup": false,
            "wait_interval": 0
          },
          "base_uri": "https://localhost:8080/",
          "height": 264
        },
        "outputId": "aa38aad3-8d1e-4c8d-ba7f-f6b2ab994059",
        "executionInfo": {
          "status": "ok",
          "timestamp": 1530355881993,
          "user_tz": -330,
          "elapsed": 1076,
          "user": {
            "displayName": "Kunal Chakrabarty",
            "photoUrl": "//lh4.googleusercontent.com/-a0qGjXrilc8/AAAAAAAAAAI/AAAAAAAAByY/6GuOhTE-12E/s50-c-k-no/photo.jpg",
            "userId": "109793668806465607006"
          }
        }
      },
      "cell_type": "code",
      "source": [
        "h=plt.plot(X,y)"
      ],
      "execution_count": 29,
      "outputs": [
        {
          "output_type": "display_data",
          "data": {
            "image/png": "[encoded data removed]",
            "text/plain": [
              "<matplotlib.figure.Figure at 0x7fd4da854d30>"
            ]
          },
          "metadata": {
            "tags": []
          }
        }
      ]
    },
    {
      "metadata": {
        "id": "mG71op4aKQt5",
        "colab_type": "code",
        "colab": {
          "autoexec": {
            "startup": false,
            "wait_interval": 0
          },
          "base_uri": "https://localhost:8080/",
          "height": 33
        },
        "outputId": "8caeb8e6-3e33-48f0-a05c-f129d882a0b8",
        "executionInfo": {
          "status": "ok",
          "timestamp": 1530355883160,
          "user_tz": -330,
          "elapsed": 1062,
          "user": {
            "displayName": "Kunal Chakrabarty",
            "photoUrl": "//lh4.googleusercontent.com/-a0qGjXrilc8/AAAAAAAAAAI/AAAAAAAAByY/6GuOhTE-12E/s50-c-k-no/photo.jpg",
            "userId": "109793668806465607006"
          }
        }
      },
      "cell_type": "code",
      "source": [
        "h"
      ],
      "execution_count": 30,
      "outputs": [
        {
          "output_type": "execute_result",
          "data": {
            "text/plain": [
              "[<matplotlib.lines.Line2D at 0x7fd4da80d4e0>]"
            ]
          },
          "metadata": {
            "tags": []
          },
          "execution_count": 30
        }
      ]
    },
    {
      "metadata": {
        "id": "xapWH51_K8fl",
        "colab_type": "code",
        "colab": {
          "autoexec": {
            "startup": false,
            "wait_interval": 0
          },
          "base_uri": "https://localhost:8080/",
          "height": 17
        },
        "outputId": "947b43cf-6d68-4212-a47e-6b5e8f409e4e",
        "executionInfo": {
          "status": "ok",
          "timestamp": 1530355884404,
          "user_tz": -330,
          "elapsed": 1131,
          "user": {
            "displayName": "Kunal Chakrabarty",
            "photoUrl": "//lh4.googleusercontent.com/-a0qGjXrilc8/AAAAAAAAAAI/AAAAAAAAByY/6GuOhTE-12E/s50-c-k-no/photo.jpg",
            "userId": "109793668806465607006"
          }
        }
      },
      "cell_type": "code",
      "source": [
        "difffirst=np.diff(y)"
      ],
      "execution_count": 31,
      "outputs": []
    },
    {
      "metadata": {
        "id": "gzJrB1PzK-WI",
        "colab_type": "code",
        "colab": {
          "autoexec": {
            "startup": false,
            "wait_interval": 0
          },
          "base_uri": "https://localhost:8080/",
          "height": 166
        },
        "outputId": "7f02c84f-37dc-4fb5-8ab9-f3fad27e5a7f",
        "executionInfo": {
          "status": "ok",
          "timestamp": 1530355885570,
          "user_tz": -330,
          "elapsed": 1060,
          "user": {
            "displayName": "Kunal Chakrabarty",
            "photoUrl": "//lh4.googleusercontent.com/-a0qGjXrilc8/AAAAAAAAAAI/AAAAAAAAByY/6GuOhTE-12E/s50-c-k-no/photo.jpg",
            "userId": "109793668806465607006"
          }
        }
      },
      "cell_type": "code",
      "source": [
        "y"
      ],
      "execution_count": 32,
      "outputs": [
        {
          "output_type": "execute_result",
          "data": {
            "text/plain": [
              "0     1\n",
              "1     4\n",
              "2     9\n",
              "3    16\n",
              "4    25\n",
              "5    36\n",
              "6    49\n",
              "7    64\n",
              "dtype: int64"
            ]
          },
          "metadata": {
            "tags": []
          },
          "execution_count": 32
        }
      ]
    },
    {
      "metadata": {
        "id": "mazMh5s5Pd4y",
        "colab_type": "code",
        "colab": {
          "autoexec": {
            "startup": false,
            "wait_interval": 0
          },
          "base_uri": "https://localhost:8080/",
          "height": 33
        },
        "outputId": "9ca77c90-239c-4f7d-e9cc-ea0d0dd97e6a",
        "executionInfo": {
          "status": "ok",
          "timestamp": 1530355886755,
          "user_tz": -330,
          "elapsed": 1085,
          "user": {
            "displayName": "Kunal Chakrabarty",
            "photoUrl": "//lh4.googleusercontent.com/-a0qGjXrilc8/AAAAAAAAAAI/AAAAAAAAByY/6GuOhTE-12E/s50-c-k-no/photo.jpg",
            "userId": "109793668806465607006"
          }
        }
      },
      "cell_type": "code",
      "source": [
        "difffirst"
      ],
      "execution_count": 33,
      "outputs": [
        {
          "output_type": "execute_result",
          "data": {
            "text/plain": [
              "array([ 3,  5,  7,  9, 11, 13, 15])"
            ]
          },
          "metadata": {
            "tags": []
          },
          "execution_count": 33
        }
      ]
    },
    {
      "metadata": {
        "id": "xKWPIBYPPibi",
        "colab_type": "code",
        "colab": {
          "autoexec": {
            "startup": false,
            "wait_interval": 0
          },
          "base_uri": "https://localhost:8080/",
          "height": 37
        },
        "outputId": "a87168c8-ca10-4a4c-a729-20e62ffa34ad",
        "executionInfo": {
          "status": "ok",
          "timestamp": 1530408168263,
          "user_tz": -330,
          "elapsed": 1023,
          "user": {
            "displayName": "Kunal Chakrabarty",
            "photoUrl": "//lh4.googleusercontent.com/-a0qGjXrilc8/AAAAAAAAAAI/AAAAAAAAByY/6GuOhTE-12E/s50-c-k-no/photo.jpg",
            "userId": "109793668806465607006"
          }
        }
      },
      "cell_type": "code",
      "source": [
        "h=np.random.randint(low=30, high=90, size=90)"
      ],
      "execution_count": 18,
      "outputs": []
    },
    {
      "metadata": {
        "id": "oWpZtRe9UcuP",
        "colab_type": "code",
        "colab": {
          "autoexec": {
            "startup": false,
            "wait_interval": 0
          },
          "base_uri": "https://localhost:8080/",
          "height": 540
        },
        "outputId": "d2c90f41-c122-4619-9e27-dbd9a52d9ca6",
        "executionInfo": {
          "status": "ok",
          "timestamp": 1530408175813,
          "user_tz": -330,
          "elapsed": 2048,
          "user": {
            "displayName": "Kunal Chakrabarty",
            "photoUrl": "//lh4.googleusercontent.com/-a0qGjXrilc8/AAAAAAAAAAI/AAAAAAAAByY/6GuOhTE-12E/s50-c-k-no/photo.jpg",
            "userId": "109793668806465607006"
          }
        }
      },
      "cell_type": "code",
      "source": [
        "kkk=pd.DataFrame(h)\n",
        "kkk.plot(ylim=(0,100),legend=False,figsize=(15,9))\n",
        "plt.savefig('test2.png')"
      ],
      "execution_count": 19,
      "outputs": [
        {
          "output_type": "display_data",
          "data": {
            "image/png": "[encoded data removed]",
            "text/plain": [
              "<matplotlib.figure.Figure at 0x7fc0285112e8>"
            ]
          },
          "metadata": {
            "tags": []
          }
        }
      ]
    },
    {
      "metadata": {
        "id": "L5DP_ZNbUg5q",
        "colab_type": "code",
        "colab": {
          "autoexec": {
            "startup": false,
            "wait_interval": 0
          },
          "base_uri": "https://localhost:8080/",
          "height": 50
        },
        "outputId": "20bac37c-5738-4e02-a4e3-1880667719e7",
        "executionInfo": {
          "status": "ok",
          "timestamp": 1530356317875,
          "user_tz": -330,
          "elapsed": 1324,
          "user": {
            "displayName": "Kunal Chakrabarty",
            "photoUrl": "//lh4.googleusercontent.com/-a0qGjXrilc8/AAAAAAAAAAI/AAAAAAAAByY/6GuOhTE-12E/s50-c-k-no/photo.jpg",
            "userId": "109793668806465607006"
          }
        }
      },
      "cell_type": "code",
      "source": [
        "np.diff(k)"
      ],
      "execution_count": 48,
      "outputs": [
        {
          "output_type": "execute_result",
          "data": {
            "text/plain": [
              "array([-0.26425505,  1.31478028, -1.33327922,  0.40575404, -1.87535495,\n",
              "        1.38095863, -1.62610931])"
            ]
          },
          "metadata": {
            "tags": []
          },
          "execution_count": 48
        }
      ]
    },
    {
      "metadata": {
        "id": "D_-WTqftVGv_",
        "colab_type": "code",
        "colab": {
          "autoexec": {
            "startup": false,
            "wait_interval": 0
          },
          "base_uri": "https://localhost:8080/",
          "height": 17
        },
        "outputId": "95d09b7c-5aa0-4ec4-8f2a-ebcea52df5b4",
        "executionInfo": {
          "status": "ok",
          "timestamp": 1530408020195,
          "user_tz": -330,
          "elapsed": 1133,
          "user": {
            "displayName": "Kunal Chakrabarty",
            "photoUrl": "//lh4.googleusercontent.com/-a0qGjXrilc8/AAAAAAAAAAI/AAAAAAAAByY/6GuOhTE-12E/s50-c-k-no/photo.jpg",
            "userId": "109793668806465607006"
          }
        }
      },
      "cell_type": "code",
      "source": [
        "h=np.random.randint(low=70, high=81, size=90)"
      ],
      "execution_count": 13,
      "outputs": []
    },
    {
      "metadata": {
        "id": "B_EHBFiHXQDJ",
        "colab_type": "code",
        "colab": {
          "autoexec": {
            "startup": false,
            "wait_interval": 0
          },
          "base_uri": "https://localhost:8080/",
          "height": 17
        },
        "outputId": "50d1710d-a1fc-474d-e4d7-223228dc10ad",
        "executionInfo": {
          "status": "ok",
          "timestamp": 1530408021214,
          "user_tz": -330,
          "elapsed": 879,
          "user": {
            "displayName": "Kunal Chakrabarty",
            "photoUrl": "//lh4.googleusercontent.com/-a0qGjXrilc8/AAAAAAAAAAI/AAAAAAAAByY/6GuOhTE-12E/s50-c-k-no/photo.jpg",
            "userId": "109793668806465607006"
          }
        }
      },
      "cell_type": "code",
      "source": [
        "r=pd.DataFrame(h)\n"
      ],
      "execution_count": 14,
      "outputs": []
    },
    {
      "metadata": {
        "id": "bYmpp79pXT5N",
        "colab_type": "code",
        "colab": {
          "autoexec": {
            "startup": false,
            "wait_interval": 0
          },
          "base_uri": "https://localhost:8080/",
          "height": 33
        },
        "outputId": "d810bbfc-1f11-43c2-fb28-5a21d776bcdd",
        "executionInfo": {
          "status": "ok",
          "timestamp": 1530408022241,
          "user_tz": -330,
          "elapsed": 890,
          "user": {
            "displayName": "Kunal Chakrabarty",
            "photoUrl": "//lh4.googleusercontent.com/-a0qGjXrilc8/AAAAAAAAAAI/AAAAAAAAByY/6GuOhTE-12E/s50-c-k-no/photo.jpg",
            "userId": "109793668806465607006"
          }
        }
      },
      "cell_type": "code",
      "source": [
        "7, 12,  6, 16,  0, 16,  5, 10,  5, 12, 17,  3,  0, 15, 17\n",
        "plt.savefig('test2.png')\n"
      ],
      "execution_count": 15,
      "outputs": [
        {
          "output_type": "display_data",
          "data": {
            "text/plain": [
              "<matplotlib.figure.Figure at 0x7fc028501eb8>"
            ]
          },
          "metadata": {
            "tags": []
          }
        }
      ]
    },
    {
      "metadata": {
        "id": "LAZpCjwdZtBE",
        "colab_type": "code",
        "colab": {
          "autoexec": {
            "startup": false,
            "wait_interval": 0
          },
          "base_uri": "https://localhost:8080/",
          "height": 17
        },
        "outputId": "40a55979-50c9-4e72-9d33-e632fa75feff",
        "executionInfo": {
          "status": "ok",
          "timestamp": 1530383153957,
          "user_tz": -330,
          "elapsed": 804,
          "user": {
            "displayName": "Kunal Chakrabarty",
            "photoUrl": "//lh4.googleusercontent.com/-a0qGjXrilc8/AAAAAAAAAAI/AAAAAAAAByY/6GuOhTE-12E/s50-c-k-no/photo.jpg",
            "userId": "109793668806465607006"
          }
        }
      },
      "cell_type": "code",
      "source": [
        "from google.colab import files"
      ],
      "execution_count": 12,
      "outputs": []
    },
    {
      "metadata": {
        "id": "pKy4VAsoZuUI",
        "colab_type": "code",
        "colab": {
          "autoexec": {
            "startup": false,
            "wait_interval": 0
          },
          "base_uri": "https://localhost:8080/",
          "height": 37
        },
        "outputId": "d26f5beb-4c3d-4cdf-cfc3-f7a39c61e3a6",
        "executionInfo": {
          "status": "ok",
          "timestamp": 1530383164191,
          "user_tz": -330,
          "elapsed": 2593,
          "user": {
            "displayName": "Kunal Chakrabarty",
            "photoUrl": "//lh4.googleusercontent.com/-a0qGjXrilc8/AAAAAAAAAAI/AAAAAAAAByY/6GuOhTE-12E/s50-c-k-no/photo.jpg",
            "userId": "109793668806465607006"
          }
        }
      },
      "cell_type": "code",
      "source": [
        "files.download('test.png')"
      ],
      "execution_count": 13,
      "outputs": []
    },
    {
      "metadata": {
        "id": "rLPODwNg8di8",
        "colab_type": "code",
        "colab": {
          "autoexec": {
            "startup": false,
            "wait_interval": 0
          },
          "base_uri": "https://localhost:8080/",
          "height": 37
        },
        "outputId": "bfcf0140-6d86-4ae3-f790-3a762df398bb",
        "executionInfo": {
          "status": "ok",
          "timestamp": 1530383629998,
          "user_tz": -330,
          "elapsed": 1939,
          "user": {
            "displayName": "Kunal Chakrabarty",
            "photoUrl": "//lh4.googleusercontent.com/-a0qGjXrilc8/AAAAAAAAAAI/AAAAAAAAByY/6GuOhTE-12E/s50-c-k-no/photo.jpg",
            "userId": "109793668806465607006"
          }
        }
      },
      "cell_type": "code",
      "source": [
        "files.download('test2.png')"
      ],
      "execution_count": 24,
      "outputs": []
    },
    {
      "metadata": {
        "id": "5mJ7XCdY9Rvn",
        "colab_type": "code",
        "colab": {
          "autoexec": {
            "startup": false,
            "wait_interval": 0
          },
          "base_uri": "https://localhost:8080/",
          "height": 17
        },
        "outputId": "233f3316-54fe-4a2e-eec2-79f38751e13b",
        "executionInfo": {
          "status": "ok",
          "timestamp": 1530408538589,
          "user_tz": -330,
          "elapsed": 975,
          "user": {
            "displayName": "Kunal Chakrabarty",
            "photoUrl": "//lh4.googleusercontent.com/-a0qGjXrilc8/AAAAAAAAAAI/AAAAAAAAByY/6GuOhTE-12E/s50-c-k-no/photo.jpg",
            "userId": "109793668806465607006"
          }
        }
      },
      "cell_type": "code",
      "source": [
        "X=np.linspace(23.5,30,num=70)"
      ],
      "execution_count": 20,
      "outputs": []
    },
    {
      "metadata": {
        "id": "VbC3ABZU-Sb8",
        "colab_type": "code",
        "colab": {
          "autoexec": {
            "startup": false,
            "wait_interval": 0
          },
          "base_uri": "https://localhost:8080/",
          "height": 37
        },
        "outputId": "d52ab881-8563-448c-e87d-1e964aac5a26",
        "executionInfo": {
          "status": "ok",
          "timestamp": 1530385198058,
          "user_tz": -330,
          "elapsed": 790,
          "user": {
            "displayName": "Kunal Chakrabarty",
            "photoUrl": "//lh4.googleusercontent.com/-a0qGjXrilc8/AAAAAAAAAAI/AAAAAAAAByY/6GuOhTE-12E/s50-c-k-no/photo.jpg",
            "userId": "109793668806465607006"
          }
        }
      },
      "cell_type": "code",
      "source": [
        "y=np.sin(X)"
      ],
      "execution_count": 73,
      "outputs": []
    },
    {
      "metadata": {
        "id": "Kgi3po5o-V8R",
        "colab_type": "code",
        "colab": {
          "autoexec": {
            "startup": false,
            "wait_interval": 0
          },
          "base_uri": "https://localhost:8080/",
          "height": 281
        },
        "outputId": "fbee5e80-a024-4f99-bf34-04e13d1d0b8d",
        "executionInfo": {
          "status": "ok",
          "timestamp": 1530383907781,
          "user_tz": -330,
          "elapsed": 714,
          "user": {
            "displayName": "Kunal Chakrabarty",
            "photoUrl": "//lh4.googleusercontent.com/-a0qGjXrilc8/AAAAAAAAAAI/AAAAAAAAByY/6GuOhTE-12E/s50-c-k-no/photo.jpg",
            "userId": "109793668806465607006"
          }
        }
      },
      "cell_type": "code",
      "source": [
        "plt.plot(X,y)"
      ],
      "execution_count": 38,
      "outputs": [
        {
          "output_type": "execute_result",
          "data": {
            "text/plain": [
              "[<matplotlib.lines.Line2D at 0x7fd3d74e15c0>]"
            ]
          },
          "metadata": {
            "tags": []
          },
          "execution_count": 38
        },
        {
          "output_type": "display_data",
          "data": {
            "image/png": "[encoded data removed]",
            "text/plain": [
              "<matplotlib.figure.Figure at 0x7fd3d7567fd0>"
            ]
          },
          "metadata": {
            "tags": []
          }
        }
      ]
    },
    {
      "metadata": {
        "id": "0N6gEwsM-YVA",
        "colab_type": "code",
        "colab": {
          "autoexec": {
            "startup": false,
            "wait_interval": 0
          },
          "base_uri": "https://localhost:8080/",
          "height": 17
        },
        "outputId": "e1516bfc-7730-4e35-80b0-a14ef7293a90",
        "executionInfo": {
          "status": "ok",
          "timestamp": 1530383901195,
          "user_tz": -330,
          "elapsed": 799,
          "user": {
            "displayName": "Kunal Chakrabarty",
            "photoUrl": "//lh4.googleusercontent.com/-a0qGjXrilc8/AAAAAAAAAAI/AAAAAAAAByY/6GuOhTE-12E/s50-c-k-no/photo.jpg",
            "userId": "109793668806465607006"
          }
        }
      },
      "cell_type": "code",
      "source": [
        "for i in range(len(X)):\n",
        "  if(X[i]<0):\n",
        "    X[i]=0\n",
        "  \n",
        "    "
      ],
      "execution_count": 36,
      "outputs": []
    },
    {
      "metadata": {
        "id": "H-Nxmnwd-9gH",
        "colab_type": "code",
        "colab": {
          "autoexec": {
            "startup": false,
            "wait_interval": 0
          },
          "base_uri": "https://localhost:8080/",
          "height": 348
        },
        "outputId": "13e64c1e-a181-42a4-d614-48822bc259ae",
        "executionInfo": {
          "status": "ok",
          "timestamp": 1530383916459,
          "user_tz": -330,
          "elapsed": 943,
          "user": {
            "displayName": "Kunal Chakrabarty",
            "photoUrl": "//lh4.googleusercontent.com/-a0qGjXrilc8/AAAAAAAAAAI/AAAAAAAAByY/6GuOhTE-12E/s50-c-k-no/photo.jpg",
            "userId": "109793668806465607006"
          }
        }
      },
      "cell_type": "code",
      "source": [
        "X"
      ],
      "execution_count": 39,
      "outputs": [
        {
          "output_type": "execute_result",
          "data": {
            "text/plain": [
              "array([23.5       , 23.56565657, 23.63131313, 23.6969697 , 23.76262626,\n",
              "       23.82828283, 23.89393939, 23.95959596, 24.02525253, 24.09090909,\n",
              "       24.15656566, 24.22222222, 24.28787879, 24.35353535, 24.41919192,\n",
              "       24.48484848, 24.55050505, 24.61616162, 24.68181818, 24.74747475,\n",
              "       24.81313131, 24.87878788, 24.94444444, 25.01010101, 25.07575758,\n",
              "       25.14141414, 25.20707071, 25.27272727, 25.33838384, 25.4040404 ,\n",
              "       25.46969697, 25.53535354, 25.6010101 , 25.66666667, 25.73232323,\n",
              "       25.7979798 , 25.86363636, 25.92929293, 25.99494949, 26.06060606,\n",
              "       26.12626263, 26.19191919, 26.25757576, 26.32323232, 26.38888889,\n",
              "       26.45454545, 26.52020202, 26.58585859, 26.65151515, 26.71717172,\n",
              "       26.78282828, 26.84848485, 26.91414141, 26.97979798, 27.04545455,\n",
              "       27.11111111, 27.17676768, 27.24242424, 27.30808081, 27.37373737,\n",
              "       27.43939394, 27.50505051, 27.57070707, 27.63636364, 27.7020202 ,\n",
              "       27.76767677, 27.83333333, 27.8989899 , 27.96464646, 28.03030303,\n",
              "       28.0959596 , 28.16161616, 28.22727273, 28.29292929, 28.35858586,\n",
              "       28.42424242, 28.48989899, 28.55555556, 28.62121212, 28.68686869,\n",
              "       28.75252525, 28.81818182, 28.88383838, 28.94949495, 29.01515152,\n",
              "       29.08080808, 29.14646465, 29.21212121, 29.27777778, 29.34343434,\n",
              "       29.40909091, 29.47474747, 29.54040404, 29.60606061, 29.67171717,\n",
              "       29.73737374, 29.8030303 , 29.86868687, 29.93434343, 30.        ])"
            ]
          },
          "metadata": {
            "tags": []
          },
          "execution_count": 39
        }
      ]
    },
    {
      "metadata": {
        "id": "kT2C_iEz_Vm_",
        "colab_type": "code",
        "colab": {
          "autoexec": {
            "startup": false,
            "wait_interval": 0
          },
          "base_uri": "https://localhost:8080/",
          "height": 17
        },
        "outputId": "c56b3350-48fb-4d72-c983-c05d2ccf9135",
        "executionInfo": {
          "status": "ok",
          "timestamp": 1530408549545,
          "user_tz": -330,
          "elapsed": 990,
          "user": {
            "displayName": "Kunal Chakrabarty",
            "photoUrl": "//lh4.googleusercontent.com/-a0qGjXrilc8/AAAAAAAAAAI/AAAAAAAAByY/6GuOhTE-12E/s50-c-k-no/photo.jpg",
            "userId": "109793668806465607006"
          }
        }
      },
      "cell_type": "code",
      "source": [
        "ykok=np.sin(X)"
      ],
      "execution_count": 21,
      "outputs": []
    },
    {
      "metadata": {
        "id": "A743wO3Y_cZH",
        "colab_type": "code",
        "colab": {
          "autoexec": {
            "startup": false,
            "wait_interval": 0
          },
          "base_uri": "https://localhost:8080/",
          "height": 17
        },
        "outputId": "331d076f-569b-42dc-9f85-fd23c0ec53f1",
        "executionInfo": {
          "status": "ok",
          "timestamp": 1530408574438,
          "user_tz": -330,
          "elapsed": 974,
          "user": {
            "displayName": "Kunal Chakrabarty",
            "photoUrl": "//lh4.googleusercontent.com/-a0qGjXrilc8/AAAAAAAAAAI/AAAAAAAAByY/6GuOhTE-12E/s50-c-k-no/photo.jpg",
            "userId": "109793668806465607006"
          }
        }
      },
      "cell_type": "code",
      "source": [
        "for i in range(len(ykok)):\n",
        "  if(ykok[i]<0):\n",
        "    ykok[i]=0"
      ],
      "execution_count": 22,
      "outputs": []
    },
    {
      "metadata": {
        "id": "kXPDN13G_fjR",
        "colab_type": "code",
        "colab": {
          "autoexec": {
            "startup": false,
            "wait_interval": 0
          },
          "base_uri": "https://localhost:8080/",
          "height": 281
        },
        "outputId": "d9d0497a-ac02-4608-8621-2545f6e33612",
        "executionInfo": {
          "status": "ok",
          "timestamp": 1530408582146,
          "user_tz": -330,
          "elapsed": 1466,
          "user": {
            "displayName": "Kunal Chakrabarty",
            "photoUrl": "//lh4.googleusercontent.com/-a0qGjXrilc8/AAAAAAAAAAI/AAAAAAAAByY/6GuOhTE-12E/s50-c-k-no/photo.jpg",
            "userId": "109793668806465607006"
          }
        }
      },
      "cell_type": "code",
      "source": [
        "plt.plot(ykok)"
      ],
      "execution_count": 23,
      "outputs": [
        {
          "output_type": "execute_result",
          "data": {
            "text/plain": [
              "[<matplotlib.lines.Line2D at 0x7fc028469a58>]"
            ]
          },
          "metadata": {
            "tags": []
          },
          "execution_count": 23
        },
        {
          "output_type": "display_data",
          "data": {
            "image/png": "[encoded data removed]",
            "text/plain": [
              "<matplotlib.figure.Figure at 0x7fc02849ff28>"
            ]
          },
          "metadata": {
            "tags": []
          }
        }
      ]
    },
    {
      "metadata": {
        "id": "fCgtpiRI_m1v",
        "colab_type": "code",
        "colab": {
          "autoexec": {
            "startup": false,
            "wait_interval": 0
          },
          "base_uri": "https://localhost:8080/",
          "height": 37
        },
        "outputId": "c1dbe327-a9e3-4aa4-89f3-dfd354567297",
        "executionInfo": {
          "status": "ok",
          "timestamp": 1530384433754,
          "user_tz": -330,
          "elapsed": 1004,
          "user": {
            "displayName": "Kunal Chakrabarty",
            "photoUrl": "//lh4.googleusercontent.com/-a0qGjXrilc8/AAAAAAAAAAI/AAAAAAAAByY/6GuOhTE-12E/s50-c-k-no/photo.jpg",
            "userId": "109793668806465607006"
          }
        }
      },
      "cell_type": "code",
      "source": [
        "X=[i for i in range(1,51)]"
      ],
      "execution_count": 57,
      "outputs": []
    },
    {
      "metadata": {
        "id": "HPNPvRHX_xbo",
        "colab_type": "code",
        "colab": {
          "autoexec": {
            "startup": false,
            "wait_interval": 0
          },
          "base_uri": "https://localhost:8080/",
          "height": 846
        },
        "outputId": "6fa08905-be06-413f-a25b-63166cc15afe",
        "executionInfo": {
          "status": "ok",
          "timestamp": 1530384434603,
          "user_tz": -330,
          "elapsed": 676,
          "user": {
            "displayName": "Kunal Chakrabarty",
            "photoUrl": "//lh4.googleusercontent.com/-a0qGjXrilc8/AAAAAAAAAAI/AAAAAAAAByY/6GuOhTE-12E/s50-c-k-no/photo.jpg",
            "userId": "109793668806465607006"
          }
        }
      },
      "cell_type": "code",
      "source": [
        "X"
      ],
      "execution_count": 58,
      "outputs": [
        {
          "output_type": "execute_result",
          "data": {
            "text/plain": [
              "[1,\n",
              " 2,\n",
              " 3,\n",
              " 4,\n",
              " 5,\n",
              " 6,\n",
              " 7,\n",
              " 8,\n",
              " 9,\n",
              " 10,\n",
              " 11,\n",
              " 12,\n",
              " 13,\n",
              " 14,\n",
              " 15,\n",
              " 16,\n",
              " 17,\n",
              " 18,\n",
              " 19,\n",
              " 20,\n",
              " 21,\n",
              " 22,\n",
              " 23,\n",
              " 24,\n",
              " 25,\n",
              " 26,\n",
              " 27,\n",
              " 28,\n",
              " 29,\n",
              " 30,\n",
              " 31,\n",
              " 32,\n",
              " 33,\n",
              " 34,\n",
              " 35,\n",
              " 36,\n",
              " 37,\n",
              " 38,\n",
              " 39,\n",
              " 40,\n",
              " 41,\n",
              " 42,\n",
              " 43,\n",
              " 44,\n",
              " 45,\n",
              " 46,\n",
              " 47,\n",
              " 48,\n",
              " 49,\n",
              " 50]"
            ]
          },
          "metadata": {
            "tags": []
          },
          "execution_count": 58
        }
      ]
    },
    {
      "metadata": {
        "id": "_W2zKlQX__I3",
        "colab_type": "code",
        "colab": {
          "autoexec": {
            "startup": false,
            "wait_interval": 0
          },
          "base_uri": "https://localhost:8080/",
          "height": 17
        },
        "outputId": "86e7e045-5a28-46be-ff43-e8660769629f",
        "executionInfo": {
          "status": "ok",
          "timestamp": 1530408599665,
          "user_tz": -330,
          "elapsed": 1637,
          "user": {
            "displayName": "Kunal Chakrabarty",
            "photoUrl": "//lh4.googleusercontent.com/-a0qGjXrilc8/AAAAAAAAAAI/AAAAAAAAByY/6GuOhTE-12E/s50-c-k-no/photo.jpg",
            "userId": "109793668806465607006"
          }
        }
      },
      "cell_type": "code",
      "source": [
        "y=[]"
      ],
      "execution_count": 24,
      "outputs": []
    },
    {
      "metadata": {
        "id": "nfzhv3onAWeE",
        "colab_type": "code",
        "colab": {
          "autoexec": {
            "startup": false,
            "wait_interval": 0
          },
          "base_uri": "https://localhost:8080/",
          "height": 37
        },
        "outputId": "bfc4e6da-15ba-419a-b9df-98bf2cd93527",
        "executionInfo": {
          "status": "ok",
          "timestamp": 1530385401899,
          "user_tz": -330,
          "elapsed": 787,
          "user": {
            "displayName": "Kunal Chakrabarty",
            "photoUrl": "//lh4.googleusercontent.com/-a0qGjXrilc8/AAAAAAAAAAI/AAAAAAAAByY/6GuOhTE-12E/s50-c-k-no/photo.jpg",
            "userId": "109793668806465607006"
          }
        }
      },
      "cell_type": "code",
      "source": [
        "y.append(np.random.randint(low=0, high=20, size=10))"
      ],
      "execution_count": 82,
      "outputs": []
    },
    {
      "metadata": {
        "id": "R-mTzTD1AiSQ",
        "colab_type": "code",
        "colab": {
          "autoexec": {
            "startup": false,
            "wait_interval": 0
          },
          "base_uri": "https://localhost:8080/",
          "height": 37
        },
        "outputId": "8391c602-9157-47f3-c498-0a72cfc52597",
        "executionInfo": {
          "status": "ok",
          "timestamp": 1530385402717,
          "user_tz": -330,
          "elapsed": 696,
          "user": {
            "displayName": "Kunal Chakrabarty",
            "photoUrl": "//lh4.googleusercontent.com/-a0qGjXrilc8/AAAAAAAAAAI/AAAAAAAAByY/6GuOhTE-12E/s50-c-k-no/photo.jpg",
            "userId": "109793668806465607006"
          }
        }
      },
      "cell_type": "code",
      "source": [
        "y.append(ykok)"
      ],
      "execution_count": 83,
      "outputs": []
    },
    {
      "metadata": {
        "id": "8zmI0bEwBL3P",
        "colab_type": "code",
        "colab": {
          "autoexec": {
            "startup": false,
            "wait_interval": 0
          },
          "base_uri": "https://localhost:8080/",
          "height": 37
        },
        "outputId": "c0ddfc38-5b17-457c-b56b-b28c64279f5e",
        "executionInfo": {
          "status": "ok",
          "timestamp": 1530409460447,
          "user_tz": -330,
          "elapsed": 986,
          "user": {
            "displayName": "Kunal Chakrabarty",
            "photoUrl": "//lh4.googleusercontent.com/-a0qGjXrilc8/AAAAAAAAAAI/AAAAAAAAByY/6GuOhTE-12E/s50-c-k-no/photo.jpg",
            "userId": "109793668806465607006"
          }
        }
      },
      "cell_type": "code",
      "source": [
        "y=[]\n",
        "y.append(np.random.randint(low=0, high=20, size=65))"
      ],
      "execution_count": 46,
      "outputs": []
    },
    {
      "metadata": {
        "id": "0um88jG0BP0E",
        "colab_type": "code",
        "colab": {
          "autoexec": {
            "startup": false,
            "wait_interval": 0
          },
          "base_uri": "https://localhost:8080/",
          "height": 83
        },
        "outputId": "794ac566-72fa-4155-8c9e-0c42e70fc504",
        "executionInfo": {
          "status": "ok",
          "timestamp": 1530409463158,
          "user_tz": -330,
          "elapsed": 1201,
          "user": {
            "displayName": "Kunal Chakrabarty",
            "photoUrl": "//lh4.googleusercontent.com/-a0qGjXrilc8/AAAAAAAAAAI/AAAAAAAAByY/6GuOhTE-12E/s50-c-k-no/photo.jpg",
            "userId": "109793668806465607006"
          }
        }
      },
      "cell_type": "code",
      "source": [
        "y"
      ],
      "execution_count": 47,
      "outputs": [
        {
          "output_type": "execute_result",
          "data": {
            "text/plain": [
              "[array([15, 14,  9, 18, 17, 18,  1,  4,  6,  9,  5, 17,  4, 13, 13, 17,  8,\n",
              "         1, 12, 18,  3,  5,  7,  0, 17,  4,  6,  0,  7, 19,  0,  1,  7, 19,\n",
              "         7, 12,  0,  3, 13, 19,  6, 10,  0,  9,  7,  2, 15, 19,  0,  0, 13,\n",
              "         3,  8, 12,  9, 12, 11, 17, 15, 18,  2,  7, 15,  4,  7])]"
            ]
          },
          "metadata": {
            "tags": []
          },
          "execution_count": 47
        }
      ]
    },
    {
      "metadata": {
        "id": "U1NqfbCzBRkP",
        "colab_type": "code",
        "colab": {
          "autoexec": {
            "startup": false,
            "wait_interval": 0
          },
          "base_uri": "https://localhost:8080/",
          "height": 249
        },
        "outputId": "d53259af-19f8-421b-f565-432a85eb8359",
        "executionInfo": {
          "status": "ok",
          "timestamp": 1530408692340,
          "user_tz": -330,
          "elapsed": 1239,
          "user": {
            "displayName": "Kunal Chakrabarty",
            "photoUrl": "//lh4.googleusercontent.com/-a0qGjXrilc8/AAAAAAAAAAI/AAAAAAAAByY/6GuOhTE-12E/s50-c-k-no/photo.jpg",
            "userId": "109793668806465607006"
          }
        }
      },
      "cell_type": "code",
      "source": [
        "ykok"
      ],
      "execution_count": 27,
      "outputs": [
        {
          "output_type": "execute_result",
          "data": {
            "text/plain": [
              "array([0.        , 0.        , 0.        , 0.        , 0.        ,\n",
              "       0.        , 0.        , 0.        , 0.        , 0.        ,\n",
              "       0.        , 0.        , 0.        , 0.        , 0.        ,\n",
              "       0.        , 0.        , 0.        , 0.06286946, 0.15646825,\n",
              "       0.24867955, 0.33868565, 0.42568842, 0.50891633, 0.58763137,\n",
              "       0.66113551, 0.72877696, 0.78995588, 0.84412976, 0.89081822,\n",
              "       0.92960724, 0.96015285, 0.98218418, 0.99550588, 0.9999998 ,\n",
              "       0.99562609, 0.98242355, 0.96050924, 0.9300775 , 0.89139817,\n",
              "       0.84481426, 0.79073886, 0.72965148, 0.66209382, 0.58866497,\n",
              "       0.51001605, 0.4268445 , 0.33988785, 0.24991721, 0.1577304 ,\n",
              "       0.06414489, 0.        , 0.        , 0.        , 0.        ,\n",
              "       0.        , 0.        , 0.        , 0.        , 0.        ,\n",
              "       0.        , 0.        , 0.        , 0.        , 0.        ,\n",
              "       0.        , 0.        , 0.        , 0.        , 0.        ])"
            ]
          },
          "metadata": {
            "tags": []
          },
          "execution_count": 27
        }
      ]
    },
    {
      "metadata": {
        "id": "zUL_N-TLDBqP",
        "colab_type": "code",
        "colab": {
          "autoexec": {
            "startup": false,
            "wait_interval": 0
          },
          "base_uri": "https://localhost:8080/",
          "height": 17
        },
        "outputId": "dc204048-f5ec-4f58-eec9-9059eed02735",
        "executionInfo": {
          "status": "ok",
          "timestamp": 1530408731319,
          "user_tz": -330,
          "elapsed": 971,
          "user": {
            "displayName": "Kunal Chakrabarty",
            "photoUrl": "//lh4.googleusercontent.com/-a0qGjXrilc8/AAAAAAAAAAI/AAAAAAAAByY/6GuOhTE-12E/s50-c-k-no/photo.jpg",
            "userId": "109793668806465607006"
          }
        }
      },
      "cell_type": "code",
      "source": [
        "\n",
        "\n",
        "for i in range(len(ykok)):\n",
        "  ykok[i]=int(ykok[i]*100)"
      ],
      "execution_count": 28,
      "outputs": []
    },
    {
      "metadata": {
        "id": "ZqNCtbGoDNzg",
        "colab_type": "code",
        "colab": {
          "autoexec": {
            "startup": false,
            "wait_interval": 0
          },
          "base_uri": "https://localhost:8080/",
          "height": 116
        },
        "outputId": "529515d8-6441-4eaa-b78c-2d62ae2a1130",
        "executionInfo": {
          "status": "ok",
          "timestamp": 1530408738492,
          "user_tz": -330,
          "elapsed": 999,
          "user": {
            "displayName": "Kunal Chakrabarty",
            "photoUrl": "//lh4.googleusercontent.com/-a0qGjXrilc8/AAAAAAAAAAI/AAAAAAAAByY/6GuOhTE-12E/s50-c-k-no/photo.jpg",
            "userId": "109793668806465607006"
          }
        }
      },
      "cell_type": "code",
      "source": [
        "ykok"
      ],
      "execution_count": 29,
      "outputs": [
        {
          "output_type": "execute_result",
          "data": {
            "text/plain": [
              "array([ 0.,  0.,  0.,  0.,  0.,  0.,  0.,  0.,  0.,  0.,  0.,  0.,  0.,\n",
              "        0.,  0.,  0.,  0.,  0.,  6., 15., 24., 33., 42., 50., 58., 66.,\n",
              "       72., 78., 84., 89., 92., 96., 98., 99., 99., 99., 98., 96., 93.,\n",
              "       89., 84., 79., 72., 66., 58., 51., 42., 33., 24., 15.,  6.,  0.,\n",
              "        0.,  0.,  0.,  0.,  0.,  0.,  0.,  0.,  0.,  0.,  0.,  0.,  0.,\n",
              "        0.,  0.,  0.,  0.,  0.])"
            ]
          },
          "metadata": {
            "tags": []
          },
          "execution_count": 29
        }
      ]
    },
    {
      "metadata": {
        "id": "avn6erjvDOy4",
        "colab_type": "code",
        "colab": {
          "autoexec": {
            "startup": false,
            "wait_interval": 0
          },
          "base_uri": "https://localhost:8080/",
          "height": 17
        },
        "outputId": "921d3bdc-352f-4e1e-a2f7-9236b389ea96",
        "executionInfo": {
          "status": "ok",
          "timestamp": 1530409289304,
          "user_tz": -330,
          "elapsed": 1729,
          "user": {
            "displayName": "Kunal Chakrabarty",
            "photoUrl": "//lh4.googleusercontent.com/-a0qGjXrilc8/AAAAAAAAAAI/AAAAAAAAByY/6GuOhTE-12E/s50-c-k-no/photo.jpg",
            "userId": "109793668806465607006"
          }
        }
      },
      "cell_type": "code",
      "source": [
        "y=[ 6., 15., 24., 33., 42., 50., 58., 66.,\n",
        "       72., 78., 84., 89., 92., 96., 98., 99., 99., 99., 98., 96., 93.,\n",
        "       89., 84., 79., 72., 66., 58., 51., 42., 33., 24., 15.]\n",
        "y1=[-1, -3, -1,  2, -3,  2,  1, -2,  1,  1, -3, -2,  2, -1, -3,  2,  2,\n",
        "        -3, -2, -3,  0, -1,  2,  1,  2,  0,  1,  0, -3, -3,  1,  1]\n",
        "\n",
        "for i in range(len(y1)):\n",
        "  y[i]=y[i]+y1[i]\n",
        "\n"
      ],
      "execution_count": 41,
      "outputs": []
    },
    {
      "metadata": {
        "id": "yX_gRly4DnSR",
        "colab_type": "code",
        "colab": {
          "autoexec": {
            "startup": false,
            "wait_interval": 0
          },
          "base_uri": "https://localhost:8080/",
          "height": 547
        },
        "outputId": "9b00df61-f15b-4055-9067-00fba3c1a002",
        "executionInfo": {
          "status": "ok",
          "timestamp": 1530409362734,
          "user_tz": -330,
          "elapsed": 1629,
          "user": {
            "displayName": "Kunal Chakrabarty",
            "photoUrl": "//lh4.googleusercontent.com/-a0qGjXrilc8/AAAAAAAAAAI/AAAAAAAAByY/6GuOhTE-12E/s50-c-k-no/photo.jpg",
            "userId": "109793668806465607006"
          }
        }
      },
      "cell_type": "code",
      "source": [
        "y"
      ],
      "execution_count": 44,
      "outputs": [
        {
          "output_type": "execute_result",
          "data": {
            "text/plain": [
              "[5.0,\n",
              " 12.0,\n",
              " 23.0,\n",
              " 35.0,\n",
              " 39.0,\n",
              " 52.0,\n",
              " 59.0,\n",
              " 64.0,\n",
              " 73.0,\n",
              " 79.0,\n",
              " 81.0,\n",
              " 87.0,\n",
              " 94.0,\n",
              " 95.0,\n",
              " 95.0,\n",
              " 101.0,\n",
              " 101.0,\n",
              " 96.0,\n",
              " 96.0,\n",
              " 93.0,\n",
              " 93.0,\n",
              " 88.0,\n",
              " 86.0,\n",
              " 80.0,\n",
              " 74.0,\n",
              " 66.0,\n",
              " 59.0,\n",
              " 51.0,\n",
              " 39.0,\n",
              " 30.0,\n",
              " 25.0,\n",
              " 16.0]"
            ]
          },
          "metadata": {
            "tags": []
          },
          "execution_count": 44
        }
      ]
    },
    {
      "metadata": {
        "id": "e9DL_aSDDpaP",
        "colab_type": "code",
        "colab": {
          "autoexec": {
            "startup": false,
            "wait_interval": 0
          },
          "base_uri": "https://localhost:8080/",
          "height": 37
        },
        "outputId": "080ab2aa-9856-4d37-a4b3-88d9063915e2",
        "executionInfo": {
          "status": "ok",
          "timestamp": 1530409493721,
          "user_tz": -330,
          "elapsed": 1027,
          "user": {
            "displayName": "Kunal Chakrabarty",
            "photoUrl": "//lh4.googleusercontent.com/-a0qGjXrilc8/AAAAAAAAAAI/AAAAAAAAByY/6GuOhTE-12E/s50-c-k-no/photo.jpg",
            "userId": "109793668806465607006"
          }
        }
      },
      "cell_type": "code",
      "source": [
        "ysin=[15, 14,  9, 18, 17, 18,  1,  4,  6,  9,  5, 17,  4, 13, 13, 17,  8,\n",
        "         1, 12, 18,  3,  5,  7,  0, 17,  4,  6,  0,  7, 19,  0,  1,  7, 19,\n",
        "         7, 12,  0,  3, 13, 19,  6, 10,  0,  9,  7,  2, 15, 19,  0,  0, 13,\n",
        "         3,  8, 12,  9, 12, 11, 17, 15, 18,  2,  7, 15,  4,  7, 5.0,\n",
        " 12.0,\n",
        " 23.0,\n",
        " 35.0,\n",
        " 39.0,\n",
        " 52.0,\n",
        " 59.0,\n",
        " 64.0,\n",
        " 73.0,\n",
        " 79.0,\n",
        " 81.0,\n",
        " 87.0,\n",
        " 94.0,\n",
        " 95.0,\n",
        " 95.0,\n",
        " 97.0,\n",
        " 97.0,\n",
        " 96.0,\n",
        " 96.0,\n",
        " 93.0,\n",
        " 93.0,\n",
        " 88.0,\n",
        " 86.0,\n",
        " 80.0,\n",
        " 74.0,]"
      ],
      "execution_count": 48,
      "outputs": []
    },
    {
      "metadata": {
        "id": "dV-wT247D5El",
        "colab_type": "code",
        "colab": {
          "autoexec": {
            "startup": false,
            "wait_interval": 0
          },
          "base_uri": "https://localhost:8080/",
          "height": 33
        },
        "outputId": "6092753d-ab0a-45d8-a65f-267411304a08",
        "executionInfo": {
          "status": "ok",
          "timestamp": 1530409501890,
          "user_tz": -330,
          "elapsed": 1632,
          "user": {
            "displayName": "Kunal Chakrabarty",
            "photoUrl": "//lh4.googleusercontent.com/-a0qGjXrilc8/AAAAAAAAAAI/AAAAAAAAByY/6GuOhTE-12E/s50-c-k-no/photo.jpg",
            "userId": "109793668806465607006"
          }
        }
      },
      "cell_type": "code",
      "source": [
        "len(ysin)"
      ],
      "execution_count": 49,
      "outputs": [
        {
          "output_type": "execute_result",
          "data": {
            "text/plain": [
              "90"
            ]
          },
          "metadata": {
            "tags": []
          },
          "execution_count": 49
        }
      ]
    },
    {
      "metadata": {
        "id": "piU1IPl0GtP0",
        "colab_type": "code",
        "colab": {
          "autoexec": {
            "startup": false,
            "wait_interval": 0
          },
          "base_uri": "https://localhost:8080/",
          "height": 540
        },
        "outputId": "ea826085-a666-4a21-d043-702ba88a2582",
        "executionInfo": {
          "status": "ok",
          "timestamp": 1530409548724,
          "user_tz": -330,
          "elapsed": 1470,
          "user": {
            "displayName": "Kunal Chakrabarty",
            "photoUrl": "//lh4.googleusercontent.com/-a0qGjXrilc8/AAAAAAAAAAI/AAAAAAAAByY/6GuOhTE-12E/s50-c-k-no/photo.jpg",
            "userId": "109793668806465607006"
          }
        }
      },
      "cell_type": "code",
      "source": [
        "madar=pd.DataFrame(ysin)\n",
        "madar.plot(ylim=(0,100),legend=False,figsize=(15,9))\n",
        "plt.savefig('test3.png')"
      ],
      "execution_count": 50,
      "outputs": [
        {
          "output_type": "display_data",
          "data": {
            "image/png": "[encoded data removed]",
            "text/plain": [
              "<matplotlib.figure.Figure at 0x7fc02a8135c0>"
            ]
          },
          "metadata": {
            "tags": []
          }
        }
      ]
    },
    {
      "metadata": {
        "id": "5vvFlFPRhHWn",
        "colab_type": "code",
        "colab": {
          "autoexec": {
            "startup": false,
            "wait_interval": 0
          },
          "base_uri": "https://localhost:8080/",
          "height": 37
        },
        "outputId": "26705e83-aebe-4004-9154-449ede8b4149",
        "executionInfo": {
          "status": "ok",
          "timestamp": 1530409575215,
          "user_tz": -330,
          "elapsed": 970,
          "user": {
            "displayName": "Kunal Chakrabarty",
            "photoUrl": "//lh4.googleusercontent.com/-a0qGjXrilc8/AAAAAAAAAAI/AAAAAAAAByY/6GuOhTE-12E/s50-c-k-no/photo.jpg",
            "userId": "109793668806465607006"
          }
        }
      },
      "cell_type": "code",
      "source": [
        "from google.colab import files"
      ],
      "execution_count": 51,
      "outputs": []
    },
    {
      "metadata": {
        "id": "eswhd0q1hN8b",
        "colab_type": "code",
        "colab": {
          "autoexec": {
            "startup": false,
            "wait_interval": 0
          },
          "base_uri": "https://localhost:8080/",
          "height": 37
        },
        "outputId": "23e3726d-f4c0-42b1-d1af-aa20f382c882",
        "executionInfo": {
          "status": "ok",
          "timestamp": 1530409637670,
          "user_tz": -330,
          "elapsed": 2929,
          "user": {
            "displayName": "Kunal Chakrabarty",
            "photoUrl": "//lh4.googleusercontent.com/-a0qGjXrilc8/AAAAAAAAAAI/AAAAAAAAByY/6GuOhTE-12E/s50-c-k-no/photo.jpg",
            "userId": "109793668806465607006"
          }
        }
      },
      "cell_type": "code",
      "source": [
        "files.download('test3.png')"
      ],
      "execution_count": 55,
      "outputs": []
    },
    {
      "metadata": {
        "id": "xOiwDcVOhRfq",
        "colab_type": "code",
        "colab": {
          "autoexec": {
            "startup": false,
            "wait_interval": 0
          }
        }
      },
      "cell_type": "code",
      "source": [
        ""
      ],
      "execution_count": 0,
      "outputs": []
    }
  ]
}